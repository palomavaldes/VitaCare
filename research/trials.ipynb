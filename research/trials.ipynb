{
 "cells": [
  {
   "cell_type": "code",
   "execution_count": 1,
   "id": "886099d2",
   "metadata": {},
   "outputs": [
    {
     "name": "stdout",
     "output_type": "stream",
     "text": [
      "ok\n"
     ]
    }
   ],
   "source": [
    "print(\"ok\")"
   ]
  },
  {
   "cell_type": "code",
   "execution_count": 2,
   "id": "cdc93f63",
   "metadata": {},
   "outputs": [
    {
     "data": {
      "text/plain": [
       "'/Users/palomavaldes/Desktop/VitaCare/VitaCare/research'"
      ]
     },
     "execution_count": 2,
     "metadata": {},
     "output_type": "execute_result"
    }
   ],
   "source": [
    "%pwd"
   ]
  },
  {
   "cell_type": "code",
   "execution_count": 3,
   "id": "5d1015a4",
   "metadata": {},
   "outputs": [],
   "source": [
    "import os\n",
    "os.chdir('../')"
   ]
  },
  {
   "cell_type": "code",
   "execution_count": 4,
   "id": "2f95135c",
   "metadata": {},
   "outputs": [
    {
     "data": {
      "text/plain": [
       "'/Users/palomavaldes/Desktop/VitaCare/VitaCare'"
      ]
     },
     "execution_count": 4,
     "metadata": {},
     "output_type": "execute_result"
    }
   ],
   "source": [
    "%pwd"
   ]
  },
  {
   "cell_type": "code",
   "execution_count": 5,
   "id": "6edbdb30",
   "metadata": {},
   "outputs": [],
   "source": [
    "from langchain.document_loaders import PyPDFLoader, DirectoryLoader\n",
    "from langchain.text_splitter import RecursiveCharacterTextSplitter"
   ]
  },
  {
   "cell_type": "code",
   "execution_count": 6,
   "id": "6181b934",
   "metadata": {},
   "outputs": [],
   "source": [
    "# extract the data from the pdf file in the folder 'data'\n",
    "def loader_pdf_file(data):\n",
    "    loader = DirectoryLoader(data,\n",
    "                             glob='*.pdf',\n",
    "                             loader_cls=PyPDFLoader)\n",
    "    documents = loader.load()\n",
    "\n",
    "    return documents"
   ]
  },
  {
   "cell_type": "code",
   "execution_count": 7,
   "id": "00802670",
   "metadata": {},
   "outputs": [
    {
     "name": "stderr",
     "output_type": "stream",
     "text": [
      "Ignoring wrong pointing object 143 0 (offset 0)\n",
      "Ignoring wrong pointing object 194 0 (offset 0)\n",
      "Ignoring wrong pointing object 6539 0 (offset 0)\n",
      "Ignoring wrong pointing object 8120 0 (offset 0)\n",
      "Ignoring wrong pointing object 8128 0 (offset 0)\n",
      "Ignoring wrong pointing object 9479 0 (offset 0)\n",
      "Ignoring wrong pointing object 9557 0 (offset 0)\n",
      "Ignoring wrong pointing object 9565 0 (offset 0)\n",
      "Ignoring wrong pointing object 22389 0 (offset 0)\n",
      "Ignoring wrong pointing object 22939 0 (offset 0)\n",
      "Ignoring wrong pointing object 23291 0 (offset 0)\n",
      "Ignoring wrong pointing object 27119 0 (offset 0)\n",
      "Ignoring wrong pointing object 28583 0 (offset 0)\n",
      "Ignoring wrong pointing object 34442 0 (offset 0)\n",
      "Ignoring wrong pointing object 34567 0 (offset 0)\n",
      "Ignoring wrong pointing object 35529 0 (offset 0)\n",
      "Ignoring wrong pointing object 35832 0 (offset 0)\n",
      "Ignoring wrong pointing object 37033 0 (offset 0)\n",
      "Ignoring wrong pointing object 37210 0 (offset 0)\n",
      "Ignoring wrong pointing object 40370 0 (offset 0)\n",
      "Ignoring wrong pointing object 41067 0 (offset 0)\n",
      "Ignoring wrong pointing object 41267 0 (offset 0)\n",
      "Ignoring wrong pointing object 41342 0 (offset 0)\n",
      "Ignoring wrong pointing object 46221 0 (offset 0)\n",
      "Ignoring wrong pointing object 46447 0 (offset 0)\n",
      "Ignoring wrong pointing object 47978 0 (offset 0)\n",
      "Ignoring wrong pointing object 48374 0 (offset 0)\n",
      "Ignoring wrong pointing object 50904 0 (offset 0)\n",
      "Ignoring wrong pointing object 50956 0 (offset 0)\n",
      "Ignoring wrong pointing object 51126 0 (offset 0)\n"
     ]
    }
   ],
   "source": [
    "extracted_data = loader_pdf_file(data = 'data/')"
   ]
  },
  {
   "cell_type": "code",
   "execution_count": 8,
   "id": "87ea74c4",
   "metadata": {},
   "outputs": [],
   "source": [
    "# extracted_data"
   ]
  },
  {
   "cell_type": "code",
   "execution_count": 9,
   "id": "b72011d9",
   "metadata": {},
   "outputs": [],
   "source": [
    "# split the data (the pdf file) into text chuncks\n",
    "def text_split(extracted_data):\n",
    "    text_splitter = RecursiveCharacterTextSplitter(chunk_size = 500, chunk_overlap = 20)\n",
    "    text_chunks = text_splitter.split_documents(extracted_data)\n",
    "    return text_chunks"
   ]
  },
  {
   "cell_type": "code",
   "execution_count": 10,
   "id": "693a50a5",
   "metadata": {},
   "outputs": [
    {
     "name": "stdout",
     "output_type": "stream",
     "text": [
      "Length of text chunks: 40324\n"
     ]
    }
   ],
   "source": [
    "text_chunks = text_split(extracted_data)\n",
    "print(\"Length of text chunks:\", len(text_chunks))"
   ]
  },
  {
   "cell_type": "code",
   "execution_count": 11,
   "id": "7be88f1f",
   "metadata": {},
   "outputs": [],
   "source": [
    "# text_chunks"
   ]
  },
  {
   "cell_type": "code",
   "execution_count": 12,
   "id": "365c7ca7",
   "metadata": {},
   "outputs": [],
   "source": [
    "from langchain.embeddings import HuggingFaceEmbeddings"
   ]
  },
  {
   "cell_type": "code",
   "execution_count": 13,
   "id": "5afd2116",
   "metadata": {},
   "outputs": [],
   "source": [
    "# download  the embeddings from Hugging Face\n",
    "\n",
    "def download_hugging_face_embeddings():\n",
    "    embeddings = HuggingFaceEmbeddings(model_name = 'sentence-transformers/all-MiniLM-L6-v2')\n",
    "    return embeddings"
   ]
  },
  {
   "cell_type": "code",
   "execution_count": 14,
   "id": "1fa17c6b",
   "metadata": {},
   "outputs": [
    {
     "name": "stdout",
     "output_type": "stream",
     "text": [
      "Requirement already satisfied: sentence-transformers==2.2.2 in /opt/anaconda3/envs/llmpp/lib/python3.10/site-packages (2.2.2)\n",
      "Collecting huggingface_hub==0.15.1\n",
      "  Using cached huggingface_hub-0.15.1-py3-none-any.whl.metadata (8.0 kB)\n",
      "Requirement already satisfied: transformers<5.0.0,>=4.6.0 in /opt/anaconda3/envs/llmpp/lib/python3.10/site-packages (from sentence-transformers==2.2.2) (4.33.3)\n",
      "Requirement already satisfied: tqdm in /opt/anaconda3/envs/llmpp/lib/python3.10/site-packages (from sentence-transformers==2.2.2) (4.67.1)\n",
      "Requirement already satisfied: torch>=1.6.0 in /opt/anaconda3/envs/llmpp/lib/python3.10/site-packages (from sentence-transformers==2.2.2) (2.2.2)\n",
      "Requirement already satisfied: torchvision in /opt/anaconda3/envs/llmpp/lib/python3.10/site-packages (from sentence-transformers==2.2.2) (0.17.2)\n",
      "Requirement already satisfied: numpy in /opt/anaconda3/envs/llmpp/lib/python3.10/site-packages (from sentence-transformers==2.2.2) (1.26.4)\n",
      "Requirement already satisfied: scikit-learn in /opt/anaconda3/envs/llmpp/lib/python3.10/site-packages (from sentence-transformers==2.2.2) (1.7.0)\n",
      "Requirement already satisfied: scipy in /opt/anaconda3/envs/llmpp/lib/python3.10/site-packages (from sentence-transformers==2.2.2) (1.15.3)\n",
      "Requirement already satisfied: nltk in /opt/anaconda3/envs/llmpp/lib/python3.10/site-packages (from sentence-transformers==2.2.2) (3.9.1)\n",
      "Requirement already satisfied: sentencepiece in /opt/anaconda3/envs/llmpp/lib/python3.10/site-packages (from sentence-transformers==2.2.2) (0.2.0)\n",
      "Requirement already satisfied: filelock in /opt/anaconda3/envs/llmpp/lib/python3.10/site-packages (from huggingface_hub==0.15.1) (3.18.0)\n",
      "Requirement already satisfied: fsspec in /opt/anaconda3/envs/llmpp/lib/python3.10/site-packages (from huggingface_hub==0.15.1) (2025.5.1)\n",
      "Requirement already satisfied: requests in /opt/anaconda3/envs/llmpp/lib/python3.10/site-packages (from huggingface_hub==0.15.1) (2.32.4)\n",
      "Requirement already satisfied: pyyaml>=5.1 in /opt/anaconda3/envs/llmpp/lib/python3.10/site-packages (from huggingface_hub==0.15.1) (6.0.2)\n",
      "Requirement already satisfied: typing-extensions>=3.7.4.3 in /opt/anaconda3/envs/llmpp/lib/python3.10/site-packages (from huggingface_hub==0.15.1) (4.14.1)\n",
      "Requirement already satisfied: packaging>=20.9 in /opt/anaconda3/envs/llmpp/lib/python3.10/site-packages (from huggingface_hub==0.15.1) (24.2)\n",
      "Requirement already satisfied: regex!=2019.12.17 in /opt/anaconda3/envs/llmpp/lib/python3.10/site-packages (from transformers<5.0.0,>=4.6.0->sentence-transformers==2.2.2) (2024.11.6)\n",
      "Collecting tokenizers!=0.11.3,<0.14,>=0.11.1 (from transformers<5.0.0,>=4.6.0->sentence-transformers==2.2.2)\n",
      "  Using cached tokenizers-0.13.3-cp310-cp310-macosx_10_11_x86_64.whl.metadata (6.7 kB)\n",
      "Requirement already satisfied: safetensors>=0.3.1 in /opt/anaconda3/envs/llmpp/lib/python3.10/site-packages (from transformers<5.0.0,>=4.6.0->sentence-transformers==2.2.2) (0.5.3)\n",
      "Requirement already satisfied: sympy in /opt/anaconda3/envs/llmpp/lib/python3.10/site-packages (from torch>=1.6.0->sentence-transformers==2.2.2) (1.14.0)\n",
      "Requirement already satisfied: networkx in /opt/anaconda3/envs/llmpp/lib/python3.10/site-packages (from torch>=1.6.0->sentence-transformers==2.2.2) (3.4.2)\n",
      "Requirement already satisfied: jinja2 in /opt/anaconda3/envs/llmpp/lib/python3.10/site-packages (from torch>=1.6.0->sentence-transformers==2.2.2) (3.1.6)\n",
      "Requirement already satisfied: MarkupSafe>=2.0 in /opt/anaconda3/envs/llmpp/lib/python3.10/site-packages (from jinja2->torch>=1.6.0->sentence-transformers==2.2.2) (3.0.2)\n",
      "Requirement already satisfied: click in /opt/anaconda3/envs/llmpp/lib/python3.10/site-packages (from nltk->sentence-transformers==2.2.2) (8.2.1)\n",
      "Requirement already satisfied: joblib in /opt/anaconda3/envs/llmpp/lib/python3.10/site-packages (from nltk->sentence-transformers==2.2.2) (1.5.1)\n",
      "Requirement already satisfied: charset_normalizer<4,>=2 in /opt/anaconda3/envs/llmpp/lib/python3.10/site-packages (from requests->huggingface_hub==0.15.1) (3.4.2)\n",
      "Requirement already satisfied: idna<4,>=2.5 in /opt/anaconda3/envs/llmpp/lib/python3.10/site-packages (from requests->huggingface_hub==0.15.1) (3.10)\n",
      "Requirement already satisfied: urllib3<3,>=1.21.1 in /opt/anaconda3/envs/llmpp/lib/python3.10/site-packages (from requests->huggingface_hub==0.15.1) (2.5.0)\n",
      "Requirement already satisfied: certifi>=2017.4.17 in /opt/anaconda3/envs/llmpp/lib/python3.10/site-packages (from requests->huggingface_hub==0.15.1) (2025.6.15)\n",
      "Requirement already satisfied: threadpoolctl>=3.1.0 in /opt/anaconda3/envs/llmpp/lib/python3.10/site-packages (from scikit-learn->sentence-transformers==2.2.2) (3.6.0)\n",
      "Requirement already satisfied: mpmath<1.4,>=1.1.0 in /opt/anaconda3/envs/llmpp/lib/python3.10/site-packages (from sympy->torch>=1.6.0->sentence-transformers==2.2.2) (1.3.0)\n",
      "Requirement already satisfied: pillow!=8.3.*,>=5.3.0 in /opt/anaconda3/envs/llmpp/lib/python3.10/site-packages (from torchvision->sentence-transformers==2.2.2) (11.3.0)\n",
      "Using cached huggingface_hub-0.15.1-py3-none-any.whl (236 kB)\n",
      "Using cached tokenizers-0.13.3-cp310-cp310-macosx_10_11_x86_64.whl (4.0 MB)\n",
      "Installing collected packages: tokenizers, huggingface_hub\n",
      "\u001b[2K  Attempting uninstall: tokenizers\n",
      "\u001b[2K    Found existing installation: tokenizers 0.21.2\n",
      "\u001b[2K    Uninstalling tokenizers-0.21.2:\n",
      "\u001b[2K      Successfully uninstalled tokenizers-0.21.2\n",
      "\u001b[2K  Attempting uninstall: huggingface_hub━━━━━━━━━\u001b[0m \u001b[32m0/2\u001b[0m [tokenizers]\n",
      "\u001b[2K    Found existing installation: huggingface-hub 0.33.2/2\u001b[0m [tokenizers]\n",
      "\u001b[2K    Uninstalling huggingface-hub-0.33.2:━━━━\u001b[0m \u001b[32m0/2\u001b[0m [tokenizers]\n",
      "\u001b[2K      Successfully uninstalled huggingface-hub-0.33.2m0/2\u001b[0m [tokenizers]\n",
      "\u001b[2K   \u001b[90m━━━━━━━━━━━━━━━━━━━━━━━━━━━━━━━━━━━━━━━━\u001b[0m \u001b[32m2/2\u001b[0m [huggingface_hub] [huggingface_hub]\n",
      "\u001b[1A\u001b[2K\u001b[31mERROR: pip's dependency resolver does not currently take into account all the packages that are installed. This behaviour is the source of the following dependency conflicts.\n",
      "cohere 5.15.0 requires tokenizers<1,>=0.15, but you have tokenizers 0.13.3 which is incompatible.\n",
      "langchain-huggingface 0.3.0 requires huggingface-hub>=0.30.2, but you have huggingface-hub 0.15.1 which is incompatible.\n",
      "langchain-huggingface 0.3.0 requires tokenizers>=0.19.1, but you have tokenizers 0.13.3 which is incompatible.\u001b[0m\u001b[31m\n",
      "\u001b[0mSuccessfully installed huggingface_hub-0.15.1 tokenizers-0.13.3\n",
      "Note: you may need to restart the kernel to use updated packages.\n"
     ]
    }
   ],
   "source": [
    "pip install sentence-transformers==2.2.2 huggingface_hub==0.15.1"
   ]
  },
  {
   "cell_type": "code",
   "execution_count": 15,
   "id": "b828d415",
   "metadata": {},
   "outputs": [
    {
     "name": "stdout",
     "output_type": "stream",
     "text": [
      "Requirement already satisfied: numpy<2 in /opt/anaconda3/envs/llmpp/lib/python3.10/site-packages (1.26.4)\n",
      "Note: you may need to restart the kernel to use updated packages.\n"
     ]
    }
   ],
   "source": [
    "pip install \"numpy<2\""
   ]
  },
  {
   "cell_type": "code",
   "execution_count": 16,
   "id": "398f7a64",
   "metadata": {},
   "outputs": [
    {
     "name": "stderr",
     "output_type": "stream",
     "text": [
      "/var/folders/34/0t4x99w11mn4pn5llpjnbprr0000gn/T/ipykernel_75094/3816888157.py:4: LangChainDeprecationWarning: The class `HuggingFaceEmbeddings` was deprecated in LangChain 0.2.2 and will be removed in 1.0. An updated version of the class exists in the :class:`~langchain-huggingface package and should be used instead. To use it run `pip install -U :class:`~langchain-huggingface` and import as `from :class:`~langchain_huggingface import HuggingFaceEmbeddings``.\n",
      "  embeddings = HuggingFaceEmbeddings(model_name = 'sentence-transformers/all-MiniLM-L6-v2')\n",
      "/opt/anaconda3/envs/llmpp/lib/python3.10/site-packages/tqdm/auto.py:21: TqdmWarning: IProgress not found. Please update jupyter and ipywidgets. See https://ipywidgets.readthedocs.io/en/stable/user_install.html\n",
      "  from .autonotebook import tqdm as notebook_tqdm\n",
      "/opt/anaconda3/envs/llmpp/lib/python3.10/site-packages/transformers/utils/generic.py:311: UserWarning: torch.utils._pytree._register_pytree_node is deprecated. Please use torch.utils._pytree.register_pytree_node instead.\n",
      "  torch.utils._pytree._register_pytree_node(\n"
     ]
    }
   ],
   "source": [
    "embeddings = download_hugging_face_embeddings()"
   ]
  },
  {
   "cell_type": "code",
   "execution_count": 17,
   "id": "45031ea3",
   "metadata": {},
   "outputs": [
    {
     "name": "stdout",
     "output_type": "stream",
     "text": [
      "length: 384\n"
     ]
    }
   ],
   "source": [
    "query_result = embeddings.embed_query(\"hello world\")\n",
    "print(\"length:\", len(query_result))"
   ]
  },
  {
   "cell_type": "code",
   "execution_count": 18,
   "id": "66dc2b4a",
   "metadata": {},
   "outputs": [],
   "source": [
    "# query_result"
   ]
  },
  {
   "cell_type": "code",
   "execution_count": 29,
   "id": "d2b2bf8a",
   "metadata": {},
   "outputs": [
    {
     "data": {
      "text/plain": [
       "True"
      ]
     },
     "execution_count": 29,
     "metadata": {},
     "output_type": "execute_result"
    }
   ],
   "source": [
    "from dotenv import load_dotenv\n",
    "load_dotenv()"
   ]
  },
  {
   "cell_type": "code",
   "execution_count": 30,
   "id": "7c3e849f",
   "metadata": {},
   "outputs": [],
   "source": [
    "import os\n",
    "PINECONE_API_KEY = os.environ.get('PINECONE_API_KEY')\n",
    "CO_API_KEY = os.environ.get('CO_API_KEY')"
   ]
  },
  {
   "cell_type": "code",
   "execution_count": 21,
   "id": "5792cbb6",
   "metadata": {},
   "outputs": [],
   "source": [
    "from pinecone.grpc import PineconeGRPC as Pinecone\n",
    "from pinecone import ServerlessSpec\n",
    "import os\n",
    "\n",
    "pc = Pinecone(api_key=PINECONE_API_KEY)\n",
    "\n",
    "index_name = \"vitacare\"\n",
    "\n",
    "if not pc.has_index(index_name):\n",
    "    pc.create_index(\n",
    "        name=index_name,\n",
    "        dimension=384,\n",
    "        metric=\"cosine\",\n",
    "        spec=ServerlessSpec(cloud=\"aws\", region=\"us-east-1\"),\n",
    "    )\n"
   ]
  },
  {
   "cell_type": "code",
   "execution_count": 31,
   "id": "70e79729",
   "metadata": {},
   "outputs": [],
   "source": [
    "import os \n",
    "os.environ[\"PINECONE_API_KEY\"] = PINECONE_API_KEY\n",
    "os.environ[\"CO_API_KEY\"] = CO_API_KEY"
   ]
  },
  {
   "cell_type": "code",
   "execution_count": 23,
   "id": "5bc2335a",
   "metadata": {},
   "outputs": [],
   "source": [
    "# Embed each chunk and upsert the embeddings into Pinecone index.\n",
    "from langchain_pinecone import PineconeVectorStore\n",
    "\n",
    "docsearch = PineconeVectorStore.from_documents(\n",
    "    documents=text_chunks,\n",
    "    index_name=index_name,\n",
    "    embedding=embeddings, \n",
    ")"
   ]
  },
  {
   "cell_type": "code",
   "execution_count": 24,
   "id": "d276a8b6",
   "metadata": {},
   "outputs": [],
   "source": [
    "# load existing index\n",
    "from langchain_pinecone import PineconeVectorStore\n",
    "\n",
    "#embed each chunk and upsert the embeddings into Pinecone index\n",
    "docsearch = PineconeVectorStore.from_existing_index(\n",
    "    index_name=index_name,\n",
    "    embedding=embeddings\n",
    ")"
   ]
  },
  {
   "cell_type": "code",
   "execution_count": 25,
   "id": "c59b2f01",
   "metadata": {},
   "outputs": [
    {
     "data": {
      "text/plain": [
       "<langchain_pinecone.vectorstores.PineconeVectorStore at 0x126adf910>"
      ]
     },
     "execution_count": 25,
     "metadata": {},
     "output_type": "execute_result"
    }
   ],
   "source": [
    "docsearch"
   ]
  },
  {
   "cell_type": "code",
   "execution_count": 26,
   "id": "da585fb1",
   "metadata": {},
   "outputs": [],
   "source": [
    "retriever = docsearch.as_retriever(search_type=\"similarity\", search_kwargs={\"k\":3})"
   ]
  },
  {
   "cell_type": "code",
   "execution_count": 27,
   "id": "08c97e00",
   "metadata": {},
   "outputs": [
    {
     "data": {
      "text/plain": [
       "[Document(id='1f8b815a-25ee-4e79-abc9-27d528b4160e', metadata={'author': 'Paloma Valdes', 'creationdate': \"D:20250708022456Z00'00'\", 'creator': 'Safari', 'moddate': \"D:20250708022456Z00'00'\", 'page': 55.0, 'page_label': '56', 'producer': 'macOS Version 14.6.1 (Build 23G93) Quartz PDFContext', 'source': 'data/medical_book.pdf', 'title': 'https:/staibabussalamsula.ac.id/wp-content/uploads/2024/06/The-Gale-Encyclopedia-of-Medicine-3rd-Edition-staibabussalamsula.ac_.id_', 'total_pages': 4505.0}, page_content='Isotretinoin—Ad r u gt h a td e c r e a s e ss e b u mp r o d u c -\\ntion and dries up acne pimples.\\nSebaceous follicles—As t r u c t u r ef o u n dw i t h i nt h e\\nskin that houses the oil-producing glands and hair\\nfollicles, where pimples form.\\nSebum— An oily skin moisturizer produced by\\nsebaceous glands.\\nTretinoin—Ad r u gt h a tw o r k sb yi n c r e a s i n gt h e\\nturnover (death and replacement) of skin cells.\\nAcne vulgaris affecting a woman’s face. Acne is the general'),\n",
       " Document(id='4d0d7e94-32d3-43e9-b21d-f1b301c43993', metadata={'author': 'Paloma Valdes', 'creationdate': \"D:20250708022456Z00'00'\", 'creator': 'Safari', 'moddate': \"D:20250708022456Z00'00'\", 'page': 269.0, 'page_label': '270', 'producer': 'macOS Version 14.6.1 (Build 23G93) Quartz PDFContext', 'source': 'data/medical_book.pdf', 'title': 'https:/staibabussalamsula.ac.id/wp-content/uploads/2024/06/The-Gale-Encyclopedia-of-Medicine-3rd-Edition-staibabussalamsula.ac_.id_', 'total_pages': 4505.0}, page_content='pimples, blackheads, whiteheads, and more severe\\nforms ofacne.\\nPurpose\\nDifferent types of antiacne drugs are used for\\ndifferent purposes. For example, lotions, soaps, gels,\\nand creams containing benzoyl peroxide or tretinoin\\nmay be used to clear up mild to moderately severe\\nacne. Isotretinoin (Accutane) is prescribed only for\\nvery severe, disfiguring acne.\\nAcne is a skin condition that occurs when pores or\\nhair follicles become blocked. This blockage allows a'),\n",
       " Document(id='d680ab04-bb41-4bb6-870e-0c57b0c898c7', metadata={'author': 'Paloma Valdes', 'creationdate': \"D:20250708022456Z00'00'\", 'creator': 'Safari', 'moddate': \"D:20250708022456Z00'00'\", 'page': 54.0, 'page_label': '55', 'producer': 'macOS Version 14.6.1 (Build 23G93) Quartz PDFContext', 'source': 'data/medical_book.pdf', 'title': 'https:/staibabussalamsula.ac.id/wp-content/uploads/2024/06/The-Gale-Encyclopedia-of-Medicine-3rd-Edition-staibabussalamsula.ac_.id_', 'total_pages': 4505.0}, page_content='Pathological Stage and Recurrence in Radical\\nProstatectomy Cases.’’Journal of Urology(March\\n1998): 935-940.\\nNancy J. Nordenson\\nAcid refluxsee Heartburn\\nAcidosissee Respiratory acidosis; Renal\\ntubular acidosis; Metabolic acidosis\\nAcne\\nDefinition\\nAcne is a common skin disease characterized by\\npimples on the face, chest, and back. It occurs when\\nthe pores of the skin become clogged with oil, dead\\nskin cells, and bacteria.\\nDescription\\nAcne vulgaris, the medical term for common acne,')]"
      ]
     },
     "execution_count": 27,
     "metadata": {},
     "output_type": "execute_result"
    }
   ],
   "source": [
    "retrieved_docs = retriever.invoke(\"What is Acne?\")\n",
    "retrieved_docs"
   ]
  },
  {
   "cell_type": "code",
   "execution_count": 32,
   "id": "6a6c0029",
   "metadata": {},
   "outputs": [],
   "source": [
    "from langchain_cohere import ChatCohere\n",
    "llm = ChatCohere(\n",
    "    model=\"command-r-plus\",  # Their best model\n",
    "    temperature=0.3,\n",
    "    max_tokens=500\n",
    ")"
   ]
  },
  {
   "cell_type": "code",
   "execution_count": 33,
   "id": "1cd7313f",
   "metadata": {},
   "outputs": [],
   "source": [
    "from langchain.chains import create_retrieval_chain\n",
    "from langchain.chains.combine_documents import create_stuff_documents_chain\n",
    "from langchain_core.prompts import ChatPromptTemplate\n",
    "\n",
    "system_prompt = (\n",
    "    \"You are an assistant for question-answering tasks. \"\n",
    "    \"Use the following pieces of retrieved context to answer \"\n",
    "    \"the question. If you don't know the answer, say that you \"\n",
    "    \"don't know. Use three sentences maximum and keep the \"\n",
    "    \"answer concise.\"\n",
    "    \"\\n\\n\"\n",
    "    \"{context}\"\n",
    ")\n",
    "\n",
    "prompt = ChatPromptTemplate.from_messages(\n",
    "    [\n",
    "        (\"system\", system_prompt),\n",
    "        (\"human\", \"{input}\"),\n",
    "    ]\n",
    ")\n"
   ]
  },
  {
   "cell_type": "code",
   "execution_count": 34,
   "id": "3c00faac",
   "metadata": {},
   "outputs": [],
   "source": [
    "question_answer_chain = create_stuff_documents_chain(llm, prompt)\n",
    "rag_chain = create_retrieval_chain(retriever, question_answer_chain)"
   ]
  },
  {
   "cell_type": "code",
   "execution_count": 36,
   "id": "81e82464",
   "metadata": {},
   "outputs": [
    {
     "name": "stdout",
     "output_type": "stream",
     "text": [
      "Gigantism is a condition caused by excessive growth, often due to an abnormal release of chemicals from the pituitary gland. It results in accelerated growth, with patients exhibiting enlarged hands, feet, ears, and noses, as well as a protruding jaw and long face. It is distinct from acromegaly, as gigantism occurs during life, not just in the hands and feet.\n"
     ]
    }
   ],
   "source": [
    "response = rag_chain.invoke({\"input\": \"what is gigantism?\"})\n",
    "print(response[\"answer\"])"
   ]
  }
 ],
 "metadata": {
  "kernelspec": {
   "display_name": "llmpp",
   "language": "python",
   "name": "python3"
  },
  "language_info": {
   "codemirror_mode": {
    "name": "ipython",
    "version": 3
   },
   "file_extension": ".py",
   "mimetype": "text/x-python",
   "name": "python",
   "nbconvert_exporter": "python",
   "pygments_lexer": "ipython3",
   "version": "3.10.18"
  }
 },
 "nbformat": 4,
 "nbformat_minor": 5
}
